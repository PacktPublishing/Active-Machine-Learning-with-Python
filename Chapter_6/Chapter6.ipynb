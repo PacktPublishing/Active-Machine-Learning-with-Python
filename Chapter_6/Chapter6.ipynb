{
  "nbformat": 4,
  "nbformat_minor": 0,
  "metadata": {
    "colab": {
      "provenance": []
    },
    "kernelspec": {
      "name": "python3",
      "display_name": "Python 3"
    },
    "language_info": {
      "name": "python"
    }
  },
  "cells": [
    {
      "cell_type": "code",
      "source": [
        "!pip install clearml && pip install pymongo"
      ],
      "metadata": {
        "id": "Lwc0rSawlyka"
      },
      "execution_count": null,
      "outputs": []
    },
    {
      "cell_type": "code",
      "source": [
        "\n",
        "import yaml\n",
        "import clearml\n",
        "import pymongo\n",
        "import datetime"
      ],
      "metadata": {
        "id": "2hFaQInxdBxh"
      },
      "execution_count": 12,
      "outputs": []
    },
    {
      "cell_type": "markdown",
      "source": [
        "## Creating efficient active ML pipelines"
      ],
      "metadata": {
        "id": "rjVX72REkzr8"
      }
    },
    {
      "cell_type": "code",
      "execution_count": 5,
      "metadata": {
        "id": "1_d8uoFAdAiC"
      },
      "outputs": [],
      "source": [
        "def get_config_yaml(path_to_config_yaml=\"config.yaml\"):\n",
        "    # Open the YAML file\n",
        "    with open(path_to_config_yaml, \"r\") as file:\n",
        "        # Load the YAML content\n",
        "        config = yaml.safe_load(file)\n",
        "    file.close()\n",
        "    return config"
      ]
    },
    {
      "cell_type": "code",
      "source": [
        "config = get_config_yaml(path_to_config_yaml=\"config.yaml\")\n",
        "model_path_in_s3 = config[\"model_path_in_s3\"]\n",
        "inference_confidence_threshold = config[\"inference_confidence_threshold\"]\n",
        "proportionSamples = config[\"proportionSamples\"]\n",
        "isSSLenabled = config[\"isSSLenabled\"]\n",
        "if isSSLenabled:\n",
        "  maxSSLepochs = config['maxSSLepochs']\n",
        "\n",
        "important_classes = config[\"important_classes\"]\n",
        "s3_bucket_output = config[\"s3_bucket_output\"]\n",
        "\n",
        "balance_strategy = config['balance_strategy']\n",
        "if balance_strategy:\n",
        "  balance = config['balance']\n",
        "\n",
        "print(s3_bucket_output)"
      ],
      "metadata": {
        "colab": {
          "base_uri": "https://localhost:8080/"
        },
        "id": "fYHyH1_mdD-q",
        "outputId": "9f5e4ba4-7304-454a-a41a-f658a8cbe460"
      },
      "execution_count": 8,
      "outputs": [
        {
          "output_type": "stream",
          "name": "stdout",
          "text": [
            "labeling-queue\n"
          ]
        }
      ]
    },
    {
      "cell_type": "markdown",
      "source": [
        "## Monitoring active ML pipelines"
      ],
      "metadata": {
        "id": "oUXAbwsak35f"
      }
    },
    {
      "cell_type": "code",
      "source": [
        "from clearml import Task, TaskTypes\n",
        "\n",
        "Task.set_credentials(api_host='https://api.community.clear.ml',\n",
        "                    web_host='https://app.community.clear.ml',\n",
        "                    key='your_clearml_access_key',\n",
        "                    secret='your_clearml_secret_key')\n",
        "task = Task.init(project_name='active_learning_runs',\n",
        "                task_name='testing-AL',\n",
        "                task_type=TaskTypes.inference)\n"
      ],
      "metadata": {
        "id": "Gkwi51HEk7JP"
      },
      "execution_count": null,
      "outputs": []
    },
    {
      "cell_type": "code",
      "source": [
        "username = 'your_mongodb_username'\n",
        "password = 'your_mongodb_pwd'\n",
        "cluster = 'your_mongodb_cluster'\n",
        "\n",
        "uri = 'mongodb+srv://' + username + ':' + password + '@' + cluster\n",
        "client = pymongo.MongoClient(uri)\n",
        "\n",
        "db = client['ml_demo_project']\n",
        "collection = db['ml_labeling_queue_demo']\n",
        "\n",
        "document = {'Name dataset': 'demo',\n",
        "            'Labeler': 'TBD',\n",
        "            'Reviewer': 'TBD',\n",
        "            'Labeling status': 'In queue',\n",
        "            'Reviewing status': 'None',\n",
        "            'date': datetime.datetime.now()}\n",
        "\n",
        "collection.insert_one(document)"
      ],
      "metadata": {
        "id": "J1cfpB1wrIYm"
      },
      "execution_count": null,
      "outputs": []
    }
  ]
}