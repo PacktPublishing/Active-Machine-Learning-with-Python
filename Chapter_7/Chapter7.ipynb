{
  "nbformat": 4,
  "nbformat_minor": 0,
  "metadata": {
    "colab": {
      "provenance": [],
      "collapsed_sections": [
        "AodglLZRVw38",
        "J4BNJBHLbK0V",
        "XoqgZMSwpkSQ"
      ]
    },
    "kernelspec": {
      "name": "python3",
      "display_name": "Python 3"
    },
    "language_info": {
      "name": "python"
    }
  },
  "cells": [
    {
      "cell_type": "markdown",
      "source": [
        "# Chapter 7: Utilizing Tools and Packages for Active ML"
      ],
      "metadata": {
        "id": "gPJ9tI-nV2E4"
      }
    },
    {
      "cell_type": "markdown",
      "source": [
        "## Imports"
      ],
      "metadata": {
        "id": "_ZxdE5DYVuBv"
      }
    },
    {
      "cell_type": "code",
      "source": [
        "!pip install scikit-learn"
      ],
      "metadata": {
        "id": "qO5lPKIxbAwq"
      },
      "execution_count": null,
      "outputs": []
    },
    {
      "cell_type": "code",
      "source": [
        "!pip install modAL-python"
      ],
      "metadata": {
        "id": "zbBhdBdlbYUp"
      },
      "execution_count": null,
      "outputs": []
    },
    {
      "cell_type": "code",
      "source": [
        "from sklearn.cluster import KMeans\n",
        "from sklearn.linear_model import LogisticRegression\n",
        "from sklearn.utils import shuffle\n",
        "import numpy as np\n",
        "import random\n",
        "from modAL.models import ActiveLearner, Committee\n",
        "from sklearn.ensemble import RandomForestClassifier\n",
        "from modAL.uncertainty import uncertainty_sampling\n",
        "import os\n",
        "from PIL import Image\n",
        "from sklearn.model_selection import train_test_split\n",
        "import matplotlib.pyplot as plt\n",
        "from sklearn.datasets import load_iris\n",
        "from modAL.disagreement import vote_entropy_sampling\n",
        "import torchvision.transforms as transforms\n",
        "from torchvision.datasets import CIFAR10\n",
        "from torch.utils.data import DataLoader\n"
      ],
      "metadata": {
        "id": "yPXYJXiiVtFQ"
      },
      "execution_count": 5,
      "outputs": []
    },
    {
      "cell_type": "markdown",
      "source": [
        "## Customer Segmentation with KMeans in Scikit-learn"
      ],
      "metadata": {
        "id": "AodglLZRVw38"
      }
    },
    {
      "cell_type": "code",
      "source": [
        "# Mock customer data (age, annual income)\n",
        "X = np.array([[34, 20000], [42, 30000], [23, 25000], [32, 45000], [38, 30000]])\n",
        "\n",
        "# Using KMeans for clustering\n",
        "kmeans = KMeans(n_clusters=2, random_state=0).fit(X)\n",
        "\n",
        "# Predicting the cluster for each customer\n",
        "clusters = kmeans.predict(X)\n",
        "\n",
        "# Setting up a classifier\n",
        "classifier = LogisticRegression()\n",
        "classifier.fit(X, clusters)  # Training the classifier on our initial labeled data\n",
        "\n",
        "# Simulating additional unlabeled data\n",
        "X_unlabeled = np.array([[28, 22000], [45, 55000], [37, 35000], [50, 48000], [29, 27000], [41, 32000]])\n",
        "\n",
        "# Function to obtain labels for selected instances\n",
        "def obtain_labels(data):\n",
        "    # This is a placeholder function. In a real scenario, we would obtain these labels through some form of data collection.\n",
        "    # Here, we'll simulate this by randomly assigning one of the existing cluster labels.\n",
        "    return np.random.choice([0, 1], size=len(data))\n",
        "\n",
        "# Active Learning Loop\n",
        "num_iterations = 10  # number of iterations\n",
        "num_to_label = 2    # number of instances to label in each iteration\n",
        "\n",
        "for iteration in range(num_iterations):\n",
        "    if len(X_unlabeled) == 0:\n",
        "        break  # No more data to label\n",
        "\n",
        "    # Predict on unlabeled data\n",
        "    predictions = classifier.predict_proba(X_unlabeled)\n",
        "    uncertainty = np.max(predictions, axis=1)\n",
        "\n",
        "    # Select num_to_label instances with least confidence\n",
        "    uncertain_indices = np.argsort(uncertainty)[:num_to_label]\n",
        "\n",
        "    # Obtain labels for these instances\n",
        "    new_labels = obtain_labels(X_unlabeled[uncertain_indices])\n",
        "\n",
        "    # Update our dataset\n",
        "    X = np.vstack([X, X_unlabeled[uncertain_indices]])\n",
        "    clusters = np.hstack([clusters, new_labels])\n",
        "\n",
        "    # Re-train classifier and KMeans\n",
        "    classifier.fit(X, clusters)\n",
        "    kmeans.fit(X)\n",
        "\n",
        "    print(f\"Iteration {iteration+1}, Labeled Data: {X_unlabeled[uncertain_indices]} with Labels: {new_labels}\")\n",
        "\n",
        "    # Remove labeled instances from unlabeled data\n",
        "    X_unlabeled = np.delete(X_unlabeled, uncertain_indices, axis=0)\n",
        "\n",
        "    # Shuffle unlabeled data to avoid any order bias\n",
        "    X_unlabeled = shuffle(X_unlabeled)\n"
      ],
      "metadata": {
        "colab": {
          "base_uri": "https://localhost:8080/"
        },
        "id": "u9v32z4lOfzd",
        "outputId": "742c50d5-e3fd-4eee-c8e2-2c44368dc44e"
      },
      "execution_count": null,
      "outputs": [
        {
          "output_type": "stream",
          "name": "stdout",
          "text": [
            "Iteration 1, Labeled Data: [[   45 55000]\n",
            " [   29 27000]] with Labels: [0 1]\n",
            "Iteration 2, Labeled Data: [[   37 35000]\n",
            " [   28 22000]] with Labels: [1 1]\n",
            "Iteration 3, Labeled Data: [[   41 32000]\n",
            " [   50 48000]] with Labels: [0 0]\n"
          ]
        },
        {
          "output_type": "stream",
          "name": "stderr",
          "text": [
            "/usr/local/lib/python3.10/dist-packages/sklearn/cluster/_kmeans.py:870: FutureWarning: The default value of `n_init` will change from 10 to 'auto' in 1.4. Set the value of `n_init` explicitly to suppress the warning\n",
            "  warnings.warn(\n",
            "/usr/local/lib/python3.10/dist-packages/sklearn/cluster/_kmeans.py:870: FutureWarning: The default value of `n_init` will change from 10 to 'auto' in 1.4. Set the value of `n_init` explicitly to suppress the warning\n",
            "  warnings.warn(\n",
            "/usr/local/lib/python3.10/dist-packages/sklearn/cluster/_kmeans.py:870: FutureWarning: The default value of `n_init` will change from 10 to 'auto' in 1.4. Set the value of `n_init` explicitly to suppress the warning\n",
            "  warnings.warn(\n",
            "/usr/local/lib/python3.10/dist-packages/sklearn/cluster/_kmeans.py:870: FutureWarning: The default value of `n_init` will change from 10 to 'auto' in 1.4. Set the value of `n_init` explicitly to suppress the warning\n",
            "  warnings.warn(\n"
          ]
        }
      ]
    },
    {
      "cell_type": "markdown",
      "source": [
        "## modAL for Image Classification CIFAR10"
      ],
      "metadata": {
        "id": "J4BNJBHLbK0V"
      }
    },
    {
      "cell_type": "code",
      "source": [
        "def load_data():\n",
        "    # Define the transformation\n",
        "    transform = transforms.Compose([\n",
        "        transforms.ToTensor(),  # Convert images to PyTorch tensors\n",
        "    ])\n",
        "\n",
        "    # Load the CIFAR10 dataset\n",
        "    dataset = CIFAR10(root='data', train=True, download=True, transform=transform)\n",
        "\n",
        "    # Load all data into memory (for small datasets)\n",
        "    dataloader = DataLoader(dataset, batch_size=len(dataset), shuffle=False)\n",
        "    data_iter = iter(dataloader)\n",
        "    images, labels = next(data_iter)\n",
        "\n",
        "    # Convert images and labels to numpy arrays\n",
        "    X_all = images.numpy()\n",
        "    y_all = np.array(labels)\n",
        "\n",
        "    # Flatten images from 3D to 1D (batch_size, 3, 32, 32) -> (batch_size, 3072) for RandomForest\n",
        "    X_all = X_all.reshape(X_all.shape[0], -1)\n",
        "\n",
        "    # Map numerical labels to string labels\n",
        "    class_names = dataset.classes\n",
        "    y_all = np.array([class_names[label] for label in y_all])\n",
        "\n",
        "    return X_all, y_all\n",
        "\n",
        "X_all, y_all = load_data()\n",
        "\n",
        "# Example usage\n",
        "print(f\"Shape of X_all: {X_all.shape}\")\n",
        "print(f\"First 5 labels: {y_all[:5]}\")\n"
      ],
      "metadata": {
        "colab": {
          "base_uri": "https://localhost:8080/"
        },
        "id": "OkLaCNwbAacn",
        "outputId": "cc6b620c-d1d9-434e-bb9b-59b64b7c81ea"
      },
      "execution_count": 12,
      "outputs": [
        {
          "output_type": "stream",
          "name": "stdout",
          "text": [
            "Files already downloaded and verified\n",
            "Shape of X_all: (50000, 3072)\n",
            "First 5 labels: ['frog' 'truck' 'truck' 'deer' 'automobile']\n"
          ]
        }
      ]
    },
    {
      "cell_type": "code",
      "source": [
        "y_all"
      ],
      "metadata": {
        "colab": {
          "base_uri": "https://localhost:8080/"
        },
        "id": "2ThJfNXsC-zY",
        "outputId": "9ed284f5-9bae-4fab-97b4-3f3c4798613b"
      },
      "execution_count": 13,
      "outputs": [
        {
          "output_type": "execute_result",
          "data": {
            "text/plain": [
              "array(['frog', 'truck', 'truck', ..., 'truck', 'automobile', 'automobile'],\n",
              "      dtype='<U10')"
            ]
          },
          "metadata": {},
          "execution_count": 13
        }
      ]
    },
    {
      "cell_type": "code",
      "source": [
        "X_initial, X_unlabeled, y_initial, _ = train_test_split(X_all, y_all, test_size=0.75, random_state=42)\n",
        "print(f\"We are starting our example with {len(X_initial)} labeled images and {len(X_unlabeled)} unlabeled images\")"
      ],
      "metadata": {
        "colab": {
          "base_uri": "https://localhost:8080/"
        },
        "id": "eaVDdq9WAcd7",
        "outputId": "0fddc164-1d7f-4a82-af96-142f26fc6b83"
      },
      "execution_count": 14,
      "outputs": [
        {
          "output_type": "stream",
          "name": "stdout",
          "text": [
            "We are starting our example with 12500 labeled images and 37500 unlabeled images\n"
          ]
        }
      ]
    },
    {
      "cell_type": "code",
      "source": [
        "# Initialize the learner\n",
        "learner = ActiveLearner(\n",
        "    estimator=RandomForestClassifier(),\n",
        "    query_strategy=uncertainty_sampling,\n",
        "    X_training=X_initial, y_training=y_initial\n",
        ")\n",
        "\n",
        "# Active learning loop\n",
        "for i in range(5):\n",
        "    query_idx, _ = learner.query(X_unlabeled)\n",
        "    # Retrieve the actual label for the queried instance\n",
        "    actual_label = y_all[query_idx[0]]  # Assuming query_idx[0] because query returns a batch of queries\n",
        "\n",
        "    # Simulate obtaining the label (in practice, you would get this from an oracle or human annotator)\n",
        "    # Since we're simulating, we use the actual label from the dataset\n",
        "    print(f\"Selected unlabeled query is sample number {query_idx[0]}. Actual label: {actual_label}\")\n",
        "\n",
        "    # Teach the learner with the newly labeled example\n",
        "    learner.teach(X_unlabeled[query_idx].reshape(1, -1), actual_label.reshape(1,))\n",
        "\n",
        "    # Remove the queried instance from the unlabeled pool\n",
        "    X_unlabeled = np.delete(X_unlabeled, query_idx, axis=0)\n",
        "    # Also, update the labels to reflect the removal of the labeled instance\n",
        "    y_all = np.delete(y_all, query_idx)  # Ensure this matches how you handle labels for the unlabeled pool"
      ],
      "metadata": {
        "colab": {
          "base_uri": "https://localhost:8080/"
        },
        "id": "3z_nh8ch31UB",
        "outputId": "7e26fbdb-4a51-4c49-f3a7-de2cf4583190"
      },
      "execution_count": 15,
      "outputs": [
        {
          "output_type": "stream",
          "name": "stdout",
          "text": [
            "Selected unlabeled query is sample number 3100. Actual label: cat\n",
            "Selected unlabeled query is sample number 7393. Actual label: deer\n",
            "Selected unlabeled query is sample number 4728. Actual label: horse\n",
            "Selected unlabeled query is sample number 447. Actual label: deer\n",
            "Selected unlabeled query is sample number 17968. Actual label: bird\n"
          ]
        }
      ]
    },
    {
      "cell_type": "markdown",
      "source": [
        "## modAL for QueryBy Committee on the Iris dataset"
      ],
      "metadata": {
        "id": "XoqgZMSwpkSQ"
      }
    },
    {
      "cell_type": "code",
      "source": [
        "# Load the Iris dataset\n",
        "X, y = load_iris(return_X_y=True)"
      ],
      "metadata": {
        "id": "pyRn5Z6TyyYX"
      },
      "execution_count": null,
      "outputs": []
    },
    {
      "cell_type": "code",
      "source": [
        "# Initial split for labeled and unlabeled data\n",
        "X_labeled, X_unlabeled, y_labeled, y_unlabeled = train_test_split(X, y, test_size=0.9, random_state=42)"
      ],
      "metadata": {
        "id": "QOcAjLmn631L"
      },
      "execution_count": null,
      "outputs": []
    },
    {
      "cell_type": "code",
      "source": [
        "# Create multiple learners for the committee\n",
        "n_learners = 20\n",
        "learners = [ActiveLearner(estimator=RandomForestClassifier(), X_training=X_labeled, y_training=y_labeled) for _ in range(n_learners)]\n",
        "\n",
        "# Create the committee\n",
        "committee = Committee(learner_list=learners, query_strategy=vote_entropy_sampling)\n",
        "\n",
        "# Active learning loop\n",
        "n_queries = 5\n",
        "for idx in range(n_queries):\n",
        "    query_idx, query_instance = committee.query(X_unlabeled)\n",
        "    print(f\"\\nSelected unlabeled query is sample number {query_idx}. We simulate labeling this sample which is labeled as: {y_unlabeled[query_idx]}\")\n",
        "    committee.teach(X_unlabeled[query_idx], y_unlabeled[query_idx])\n",
        "\n",
        "    # Remove the queried instance from the pool\n",
        "    X_unlabeled = np.delete(X_unlabeled, query_idx, axis=0)\n",
        "    y_unlabeled = np.delete(y_unlabeled, query_idx)\n",
        "    print(f\"Number of unlabeled samples is {len(X_unlabeled)}\")\n",
        "\n",
        "    # Calculate and print committee score\n",
        "    committee_score = committee.score(X, y)\n",
        "    print(f\"Iteration {idx+1}, Committee Score: {committee_score}\")\n"
      ],
      "metadata": {
        "colab": {
          "base_uri": "https://localhost:8080/"
        },
        "id": "5WRYdIrU6v0x",
        "outputId": "4a57a4a3-b060-4c35-e09e-9c949c113d06"
      },
      "execution_count": null,
      "outputs": [
        {
          "output_type": "stream",
          "name": "stdout",
          "text": [
            "\n",
            "Selected unlabeled query is sample number [8]. We simulate labeling this sample which is labeled as: [0]\n",
            "Number of unlabeled samples is 129\n",
            "Iteration 1, Committee Score: 0.96\n",
            "\n",
            "Selected unlabeled query is sample number [125]. We simulate labeling this sample which is labeled as: [2]\n",
            "Number of unlabeled samples is 128\n",
            "Iteration 2, Committee Score: 0.9466666666666667\n",
            "\n",
            "Selected unlabeled query is sample number [42]. We simulate labeling this sample which is labeled as: [2]\n",
            "Number of unlabeled samples is 127\n",
            "Iteration 3, Committee Score: 0.9466666666666667\n",
            "\n",
            "Selected unlabeled query is sample number [47]. We simulate labeling this sample which is labeled as: [1]\n",
            "Number of unlabeled samples is 126\n",
            "Iteration 4, Committee Score: 0.9733333333333334\n",
            "\n",
            "Selected unlabeled query is sample number [95]. We simulate labeling this sample which is labeled as: [1]\n",
            "Number of unlabeled samples is 125\n",
            "Iteration 5, Committee Score: 0.9733333333333334\n"
          ]
        }
      ]
    },
    {
      "cell_type": "code",
      "source": [
        "# Final evaluation\n",
        "final_score = committee.score(X, y)\n",
        "print(f\"Final Committee Score: {final_score}\")"
      ],
      "metadata": {
        "colab": {
          "base_uri": "https://localhost:8080/"
        },
        "id": "Ki8Sio5y0e-b",
        "outputId": "3661fbd6-c78b-4d88-e8e4-c0c9aa25f54f"
      },
      "execution_count": null,
      "outputs": [
        {
          "output_type": "stream",
          "name": "stdout",
          "text": [
            "Final Committee Score: 0.9733333333333334\n"
          ]
        }
      ]
    }
  ]
}